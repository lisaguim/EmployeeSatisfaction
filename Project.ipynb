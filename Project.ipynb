{
 "cells": [
  {
   "cell_type": "markdown",
   "id": "6023c322",
   "metadata": {},
   "source": [
    "### Libraries"
   ]
  },
  {
   "cell_type": "code",
   "execution_count": 2,
   "id": "3aab4335",
   "metadata": {},
   "outputs": [
    {
     "name": "stderr",
     "output_type": "stream",
     "text": [
      "C:\\Users\\Elisa\\anaconda3\\lib\\site-packages\\pandas\\core\\computation\\expressions.py:21: UserWarning: Pandas requires version '2.8.4' or newer of 'numexpr' (version '2.8.3' currently installed).\n",
      "  from pandas.core.computation.check import NUMEXPR_INSTALLED\n",
      "C:\\Users\\Elisa\\anaconda3\\lib\\site-packages\\pandas\\core\\arrays\\masked.py:60: UserWarning: Pandas requires version '1.3.6' or newer of 'bottleneck' (version '1.3.5' currently installed).\n",
      "  from pandas.core import (\n"
     ]
    }
   ],
   "source": [
    "import sklearn\n",
    "import pandas as pd\n",
    "from sklearn.model_selection import train_test_split\n",
    "from sklearn.preprocessing import StandardScaler, OneHotEncoder\n",
    "from sklearn.compose import ColumnTransformer\n",
    "from sklearn.pipeline import Pipeline\n",
    "from sklearn.impute import SimpleImputer\n",
    "from sklearn.linear_model import LogisticRegression\n",
    "from sklearn.metrics import accuracy_score"
   ]
  },
  {
   "cell_type": "markdown",
   "id": "06c10022",
   "metadata": {},
   "source": [
    "### Upload dataset and Explory Analysis"
   ]
  },
  {
   "cell_type": "code",
   "execution_count": 3,
   "id": "c08536fe",
   "metadata": {},
   "outputs": [],
   "source": [
    "df = pd.read_csv('dataset.csv')"
   ]
  },
  {
   "cell_type": "code",
   "execution_count": 4,
   "id": "c6c2e85b",
   "metadata": {},
   "outputs": [
    {
     "data": {
      "text/plain": [
       "(23058, 30)"
      ]
     },
     "execution_count": 4,
     "metadata": {},
     "output_type": "execute_result"
    }
   ],
   "source": [
    "df.shape"
   ]
  },
  {
   "cell_type": "code",
   "execution_count": 5,
   "id": "67413bc1",
   "metadata": {
    "scrolled": true
   },
   "outputs": [
    {
     "data": {
      "text/html": [
       "<div>\n",
       "<style scoped>\n",
       "    .dataframe tbody tr th:only-of-type {\n",
       "        vertical-align: middle;\n",
       "    }\n",
       "\n",
       "    .dataframe tbody tr th {\n",
       "        vertical-align: top;\n",
       "    }\n",
       "\n",
       "    .dataframe thead th {\n",
       "        text-align: right;\n",
       "    }\n",
       "</style>\n",
       "<table border=\"1\" class=\"dataframe\">\n",
       "  <thead>\n",
       "    <tr style=\"text-align: right;\">\n",
       "      <th></th>\n",
       "      <th>Age</th>\n",
       "      <th>Attrition</th>\n",
       "      <th>BusinessTravel</th>\n",
       "      <th>Department</th>\n",
       "      <th>DistanceFromHome</th>\n",
       "      <th>Education</th>\n",
       "      <th>EducationField</th>\n",
       "      <th>EnvironmentSatisfaction</th>\n",
       "      <th>Gender</th>\n",
       "      <th>JobInvolvement</th>\n",
       "      <th>...</th>\n",
       "      <th>StockOptionLevel</th>\n",
       "      <th>TotalWorkingYears</th>\n",
       "      <th>TrainingTimesLastYear</th>\n",
       "      <th>WorkLifeBalance</th>\n",
       "      <th>YearsAtCompany</th>\n",
       "      <th>YearsInCurrentRole</th>\n",
       "      <th>YearsSinceLastPromotion</th>\n",
       "      <th>YearsWithCurrManager</th>\n",
       "      <th>Employee Source</th>\n",
       "      <th>AgeStartedWorking</th>\n",
       "    </tr>\n",
       "  </thead>\n",
       "  <tbody>\n",
       "    <tr>\n",
       "      <th>0</th>\n",
       "      <td>41</td>\n",
       "      <td>Voluntary Resignation</td>\n",
       "      <td>Travel_Rarely</td>\n",
       "      <td>Sales</td>\n",
       "      <td>1</td>\n",
       "      <td>2</td>\n",
       "      <td>Life Sciences</td>\n",
       "      <td>2</td>\n",
       "      <td>Female</td>\n",
       "      <td>3</td>\n",
       "      <td>...</td>\n",
       "      <td>0</td>\n",
       "      <td>8</td>\n",
       "      <td>0</td>\n",
       "      <td>1</td>\n",
       "      <td>6</td>\n",
       "      <td>4</td>\n",
       "      <td>0</td>\n",
       "      <td>5</td>\n",
       "      <td>Referral</td>\n",
       "      <td>33</td>\n",
       "    </tr>\n",
       "    <tr>\n",
       "      <th>1</th>\n",
       "      <td>37</td>\n",
       "      <td>Voluntary Resignation</td>\n",
       "      <td>Travel_Rarely</td>\n",
       "      <td>Human Resources</td>\n",
       "      <td>6</td>\n",
       "      <td>4</td>\n",
       "      <td>Human Resources</td>\n",
       "      <td>1</td>\n",
       "      <td>Female</td>\n",
       "      <td>3</td>\n",
       "      <td>...</td>\n",
       "      <td>0</td>\n",
       "      <td>8</td>\n",
       "      <td>0</td>\n",
       "      <td>1</td>\n",
       "      <td>6</td>\n",
       "      <td>4</td>\n",
       "      <td>0</td>\n",
       "      <td>5</td>\n",
       "      <td>Referral</td>\n",
       "      <td>29</td>\n",
       "    </tr>\n",
       "    <tr>\n",
       "      <th>2</th>\n",
       "      <td>41</td>\n",
       "      <td>Voluntary Resignation</td>\n",
       "      <td>Travel_Rarely</td>\n",
       "      <td>Sales</td>\n",
       "      <td>1</td>\n",
       "      <td>2</td>\n",
       "      <td>Life Sciences</td>\n",
       "      <td>2</td>\n",
       "      <td>Female</td>\n",
       "      <td>3</td>\n",
       "      <td>...</td>\n",
       "      <td>0</td>\n",
       "      <td>8</td>\n",
       "      <td>0</td>\n",
       "      <td>1</td>\n",
       "      <td>6</td>\n",
       "      <td>4</td>\n",
       "      <td>0</td>\n",
       "      <td>5</td>\n",
       "      <td>Referral</td>\n",
       "      <td>33</td>\n",
       "    </tr>\n",
       "    <tr>\n",
       "      <th>3</th>\n",
       "      <td>37</td>\n",
       "      <td>Voluntary Resignation</td>\n",
       "      <td>Travel_Rarely</td>\n",
       "      <td>Human Resources</td>\n",
       "      <td>6</td>\n",
       "      <td>4</td>\n",
       "      <td>Marketing</td>\n",
       "      <td>1</td>\n",
       "      <td>Female</td>\n",
       "      <td>3</td>\n",
       "      <td>...</td>\n",
       "      <td>0</td>\n",
       "      <td>8</td>\n",
       "      <td>0</td>\n",
       "      <td>1</td>\n",
       "      <td>6</td>\n",
       "      <td>4</td>\n",
       "      <td>0</td>\n",
       "      <td>5</td>\n",
       "      <td>Referral</td>\n",
       "      <td>29</td>\n",
       "    </tr>\n",
       "    <tr>\n",
       "      <th>4</th>\n",
       "      <td>37</td>\n",
       "      <td>Voluntary Resignation</td>\n",
       "      <td>Travel_Rarely</td>\n",
       "      <td>Human Resources</td>\n",
       "      <td>6</td>\n",
       "      <td>4</td>\n",
       "      <td>Human Resources</td>\n",
       "      <td>1</td>\n",
       "      <td>Female</td>\n",
       "      <td>3</td>\n",
       "      <td>...</td>\n",
       "      <td>0</td>\n",
       "      <td>8</td>\n",
       "      <td>0</td>\n",
       "      <td>1</td>\n",
       "      <td>6</td>\n",
       "      <td>4</td>\n",
       "      <td>0</td>\n",
       "      <td>5</td>\n",
       "      <td>Referral</td>\n",
       "      <td>29</td>\n",
       "    </tr>\n",
       "  </tbody>\n",
       "</table>\n",
       "<p>5 rows × 30 columns</p>\n",
       "</div>"
      ],
      "text/plain": [
       "   Age              Attrition BusinessTravel       Department  \\\n",
       "0   41  Voluntary Resignation  Travel_Rarely            Sales   \n",
       "1   37  Voluntary Resignation  Travel_Rarely  Human Resources   \n",
       "2   41  Voluntary Resignation  Travel_Rarely            Sales   \n",
       "3   37  Voluntary Resignation  Travel_Rarely  Human Resources   \n",
       "4   37  Voluntary Resignation  Travel_Rarely  Human Resources   \n",
       "\n",
       "   DistanceFromHome  Education   EducationField  EnvironmentSatisfaction  \\\n",
       "0                 1          2    Life Sciences                        2   \n",
       "1                 6          4  Human Resources                        1   \n",
       "2                 1          2    Life Sciences                        2   \n",
       "3                 6          4        Marketing                        1   \n",
       "4                 6          4  Human Resources                        1   \n",
       "\n",
       "   Gender  JobInvolvement  ...  StockOptionLevel TotalWorkingYears  \\\n",
       "0  Female               3  ...                 0                 8   \n",
       "1  Female               3  ...                 0                 8   \n",
       "2  Female               3  ...                 0                 8   \n",
       "3  Female               3  ...                 0                 8   \n",
       "4  Female               3  ...                 0                 8   \n",
       "\n",
       "   TrainingTimesLastYear WorkLifeBalance  YearsAtCompany  YearsInCurrentRole  \\\n",
       "0                      0               1               6                   4   \n",
       "1                      0               1               6                   4   \n",
       "2                      0               1               6                   4   \n",
       "3                      0               1               6                   4   \n",
       "4                      0               1               6                   4   \n",
       "\n",
       "  YearsSinceLastPromotion  YearsWithCurrManager  Employee Source  \\\n",
       "0                       0                     5         Referral   \n",
       "1                       0                     5         Referral   \n",
       "2                       0                     5         Referral   \n",
       "3                       0                     5         Referral   \n",
       "4                       0                     5         Referral   \n",
       "\n",
       "   AgeStartedWorking   \n",
       "0                  33  \n",
       "1                  29  \n",
       "2                  33  \n",
       "3                  29  \n",
       "4                  29  \n",
       "\n",
       "[5 rows x 30 columns]"
      ]
     },
     "execution_count": 5,
     "metadata": {},
     "output_type": "execute_result"
    }
   ],
   "source": [
    "df.head()"
   ]
  },
  {
   "cell_type": "code",
   "execution_count": 6,
   "id": "432310ca",
   "metadata": {},
   "outputs": [
    {
     "name": "stdout",
     "output_type": "stream",
     "text": [
      "<class 'pandas.core.frame.DataFrame'>\n",
      "RangeIndex: 23058 entries, 0 to 23057\n",
      "Data columns (total 30 columns):\n",
      " #   Column                    Non-Null Count  Dtype \n",
      "---  ------                    --------------  ----- \n",
      " 0   Age                       23058 non-null  int64 \n",
      " 1   Attrition                 23058 non-null  object\n",
      " 2   BusinessTravel            23058 non-null  object\n",
      " 3   Department                23058 non-null  object\n",
      " 4   DistanceFromHome          23058 non-null  int64 \n",
      " 5   Education                 23058 non-null  int64 \n",
      " 6   EducationField            23058 non-null  object\n",
      " 7   EnvironmentSatisfaction   23058 non-null  int64 \n",
      " 8   Gender                    23058 non-null  object\n",
      " 9   JobInvolvement            23058 non-null  int64 \n",
      " 10  JobLevel                  23058 non-null  int64 \n",
      " 11  JobRole                   23058 non-null  object\n",
      " 12  JobSatisfaction           23058 non-null  int64 \n",
      " 13  MaritalStatus             23058 non-null  object\n",
      " 14  MonthlyIncome             23058 non-null  int64 \n",
      " 15  NumCompaniesWorked        23058 non-null  int64 \n",
      " 16  OverTime                  23058 non-null  object\n",
      " 17  PercentSalaryHike         23058 non-null  int64 \n",
      " 18  PerformanceRating         23058 non-null  int64 \n",
      " 19  RelationshipSatisfaction  23058 non-null  int64 \n",
      " 20  StockOptionLevel          23058 non-null  int64 \n",
      " 21  TotalWorkingYears         23058 non-null  int64 \n",
      " 22  TrainingTimesLastYear     23058 non-null  int64 \n",
      " 23  WorkLifeBalance           23058 non-null  int64 \n",
      " 24  YearsAtCompany            23058 non-null  int64 \n",
      " 25  YearsInCurrentRole        23058 non-null  int64 \n",
      " 26  YearsSinceLastPromotion   23058 non-null  int64 \n",
      " 27  YearsWithCurrManager      23058 non-null  int64 \n",
      " 28  Employee Source           23058 non-null  object\n",
      " 29  AgeStartedWorking         23058 non-null  int64 \n",
      "dtypes: int64(21), object(9)\n",
      "memory usage: 5.3+ MB\n"
     ]
    }
   ],
   "source": [
    "df.info()"
   ]
  },
  {
   "cell_type": "markdown",
   "id": "c87f3e80",
   "metadata": {},
   "source": [
    "### Selecting target variable"
   ]
  },
  {
   "cell_type": "code",
   "execution_count": 7,
   "id": "dee22c7c",
   "metadata": {},
   "outputs": [
    {
     "data": {
      "text/plain": [
       "Attrition\n",
       "Current employee         19370\n",
       "Voluntary Resignation     3601\n",
       "Termination                 87\n",
       "Name: count, dtype: int64"
      ]
     },
     "execution_count": 7,
     "metadata": {},
     "output_type": "execute_result"
    }
   ],
   "source": [
    "df['Attrition'].value_counts()"
   ]
  },
  {
   "cell_type": "markdown",
   "id": "8fbdc6a7",
   "metadata": {},
   "source": [
    "### Enconding target Variable and preparing data\n",
    "\n",
    "Class 0 = Non-occurence of event (didn't quit)\n",
    "Class 1 = Occurrence of event (quit)\n",
    "\n",
    "Let's analyze the result based on class 1 and understand the factores that influence employee satisfaction, that is, lead employee to quit."
   ]
  },
  {
   "cell_type": "code",
   "execution_count": 8,
   "id": "7ad74177",
   "metadata": {},
   "outputs": [],
   "source": [
    "# filter dataset to keep only 'Current employee' and 'Voluntary Resignation'\n",
    "df = df[df['Attrition'].isin(['Current employee', 'Voluntary Resignation'])]"
   ]
  },
  {
   "cell_type": "code",
   "execution_count": 9,
   "id": "8e86017b",
   "metadata": {},
   "outputs": [
    {
     "data": {
      "text/plain": [
       "Attrition\n",
       "Current employee         19370\n",
       "Voluntary Resignation     3601\n",
       "Name: count, dtype: int64"
      ]
     },
     "execution_count": 9,
     "metadata": {},
     "output_type": "execute_result"
    }
   ],
   "source": [
    "# Check unique values in 'Attrition' column after filter\n",
    "df['Attrition'].value_counts()"
   ]
  },
  {
   "cell_type": "code",
   "execution_count": 10,
   "id": "d41ddeec",
   "metadata": {},
   "outputs": [],
   "source": [
    "# Encode target variable\n",
    "df['Attrition'] = df['Attrition'].apply(lambda x: 1 if x == 'Voluntary Resignation' else 0)"
   ]
  },
  {
   "cell_type": "code",
   "execution_count": 11,
   "id": "e7e898b2",
   "metadata": {},
   "outputs": [
    {
     "data": {
      "text/plain": [
       "Attrition\n",
       "0    19370\n",
       "1     3601\n",
       "Name: count, dtype: int64"
      ]
     },
     "execution_count": 11,
     "metadata": {},
     "output_type": "execute_result"
    }
   ],
   "source": [
    "df['Attrition'].value_counts()"
   ]
  },
  {
   "cell_type": "code",
   "execution_count": 12,
   "id": "d33dc07a",
   "metadata": {},
   "outputs": [],
   "source": [
    "# split variables\n",
    "x = df.drop('Attrition', axis = 1)\n",
    "y = df['Attrition']"
   ]
  },
  {
   "cell_type": "code",
   "execution_count": 13,
   "id": "595fb92d",
   "metadata": {},
   "outputs": [],
   "source": [
    "# split train and test subset\n",
    "x_train, x_test, y_train, y_test = train_test_split(x, y, test_size = 0.2 , random_state = 42)"
   ]
  },
  {
   "cell_type": "code",
   "execution_count": 14,
   "id": "ed27aa29",
   "metadata": {},
   "outputs": [],
   "source": [
    "# Splittin categorical and numeric variables\n",
    "cat_features = x.select_dtypes(include = ['object']).columns.tolist()\n",
    "num_features = x.select_dtypes(include = ['int64', 'float64']).columns.tolist()"
   ]
  },
  {
   "cell_type": "markdown",
   "id": "7155bbb6",
   "metadata": {},
   "source": [
    "### Numeric Variables Preprocessing Pipeline\n",
    "\n",
    "The goal of this pipeline is to ensure that all numeric features in the dataset are treated consistently and appropriately before being fed into the Machine Learning model.\n",
    "\n",
    "- Missing Value Handling: Replaces missing values ​​with the median to prevent the model from being affected by missing data.\n",
    "- Normalization: Standardizes the data so that all numeric features have the same scale, improving model performance and ensuring that no single feature dominates the others due to scale."
   ]
  },
  {
   "cell_type": "code",
   "execution_count": 15,
   "id": "54ec1896",
   "metadata": {},
   "outputs": [],
   "source": [
    "### Create pipeline\n",
    "numeric_transformer = Pipeline(steps = [\n",
    "    ('imputer', SimpleImputer(strategy = 'median')),\n",
    "    ('scaler', StandardScaler())])"
   ]
  },
  {
   "cell_type": "markdown",
   "id": "5302b1a1",
   "metadata": {},
   "source": [
    "### Categorical Variables Preprocessing Pipeline\n",
    "\n",
    "The goal of this pipeline is to ensure that all categorical features in the dataset are treated consistently and appropriately before being fed into the Machine Learning model.\n",
    "\n",
    "- Missing Value Treatment: Replaces missing values ​​with 'missing', creating a special category for missing values.\n",
    "- One-Hot Encoding: Transforms categorical features into a form that can be used by the Machine Learning model, converting each category into a binary column.\n"
   ]
  },
  {
   "cell_type": "code",
   "execution_count": 22,
   "id": "12e521fa",
   "metadata": {},
   "outputs": [],
   "source": [
    "# Create pipeline\n",
    "categorical_transformer = Pipeline(steps = [\n",
    "    ('imputer', SimpleImputer(strategy = 'constant', fill_value = 'missing')),\n",
    "    ('onehot', OneHotEncoder(handle_unknown = 'ignore'))])"
   ]
  },
  {
   "cell_type": "markdown",
   "id": "f60e927c",
   "metadata": {},
   "source": [
    "### Modelling Pipeline\n",
    "The ColumnTransformer class allows you to apply different transformations to different subsets of features. This is useful when you need to preprocess numeric and categorical columns differently."
   ]
  },
  {
   "cell_type": "code",
   "execution_count": 25,
   "id": "cb836394",
   "metadata": {},
   "outputs": [],
   "source": [
    "preprocessor = ColumnTransformer(\n",
    "    transformers = [\n",
    "        ('num', numeric_transformer, num_features),\n",
    "        ('cat', categorical_transformer, cat_features)])"
   ]
  },
  {
   "cell_type": "markdown",
   "id": "92c548e8",
   "metadata": {},
   "source": [
    "The goal of the modeling pipeline is to combine all preprocessing and modeling steps into a single workflow that can be applied consistently to both training and test data. This ensures that all necessary transformations are applied correctly and in the right order, making the process easier to replicate and maintain."
   ]
  },
  {
   "cell_type": "code",
   "execution_count": 26,
   "id": "1fe727e4",
   "metadata": {},
   "outputs": [],
   "source": [
    "model_df = Pipeline(steps = [('preprocessor', preprocessor),\n",
    "                             ('classifier', LogisticRegression(max_iter = 1000))])"
   ]
  },
  {
   "cell_type": "code",
   "execution_count": 27,
   "id": "e289ecab",
   "metadata": {},
   "outputs": [
    {
     "data": {
      "text/plain": [
       "Pipeline(steps=[('preprocessor',\n",
       "                 ColumnTransformer(transformers=[('num',\n",
       "                                                  Pipeline(steps=[('imputer',\n",
       "                                                                   SimpleImputer(strategy='median')),\n",
       "                                                                  ('scaler',\n",
       "                                                                   StandardScaler())]),\n",
       "                                                  ['Age', 'DistanceFromHome',\n",
       "                                                   'Education',\n",
       "                                                   'EnvironmentSatisfaction',\n",
       "                                                   'JobInvolvement', 'JobLevel',\n",
       "                                                   'JobSatisfaction',\n",
       "                                                   'MonthlyIncome',\n",
       "                                                   'NumCompaniesWorked',\n",
       "                                                   'PercentSalaryHike',\n",
       "                                                   'PerformanceRating',\n",
       "                                                   '...\n",
       "                                                   'YearsWithCurrManager',\n",
       "                                                   'AgeStartedWorking ']),\n",
       "                                                 ('cat',\n",
       "                                                  Pipeline(steps=[('imputer',\n",
       "                                                                   SimpleImputer(fill_value='missing',\n",
       "                                                                                 strategy='constant')),\n",
       "                                                                  ('onehot',\n",
       "                                                                   OneHotEncoder(handle_unknown='ignore'))]),\n",
       "                                                  ['BusinessTravel',\n",
       "                                                   'Department',\n",
       "                                                   'EducationField', 'Gender',\n",
       "                                                   'JobRole', 'MaritalStatus',\n",
       "                                                   'OverTime',\n",
       "                                                   'Employee Source'])])),\n",
       "                ('classifier', LogisticRegression(max_iter=1000))])"
      ]
     },
     "execution_count": 27,
     "metadata": {},
     "output_type": "execute_result"
    }
   ],
   "source": [
    "#Trainning model\n",
    "model_df.fit(x_train, y_train)"
   ]
  },
  {
   "cell_type": "code",
   "execution_count": 29,
   "id": "a552872b",
   "metadata": {},
   "outputs": [],
   "source": [
    "# Predict with testdataset\n",
    "y_pred = model_df.predict(x_test)"
   ]
  },
  {
   "cell_type": "code",
   "execution_count": 31,
   "id": "8aa8bfcb",
   "metadata": {},
   "outputs": [
    {
     "name": "stdout",
     "output_type": "stream",
     "text": [
      "0.8554951033732318\n"
     ]
    }
   ],
   "source": [
    "#Evaluate model\n",
    "accuracy = accuracy_score(y_test,y_pred)\n",
    "print(accuracy)"
   ]
  },
  {
   "cell_type": "markdown",
   "id": "829e1c5d",
   "metadata": {},
   "source": [
    "#### Checking  model coeficients"
   ]
  },
  {
   "cell_type": "code",
   "execution_count": 32,
   "id": "fa111042",
   "metadata": {},
   "outputs": [],
   "source": [
    "coefficients = model_df.named_steps['classifier'].coef_[0]"
   ]
  },
  {
   "cell_type": "code",
   "execution_count": 34,
   "id": "f87b4e4a",
   "metadata": {},
   "outputs": [],
   "source": [
    "features_names = num_features + list(model_df.named_steps['preprocessor'] \\\n",
    "                                     .transformers_[1][1].named_steps['onehot'].get_feature_names_out(cat_features))"
   ]
  },
  {
   "cell_type": "code",
   "execution_count": 37,
   "id": "92deb368",
   "metadata": {},
   "outputs": [
    {
     "data": {
      "text/plain": [
       "['Age',\n",
       " 'DistanceFromHome',\n",
       " 'Education',\n",
       " 'EnvironmentSatisfaction',\n",
       " 'JobInvolvement',\n",
       " 'JobLevel',\n",
       " 'JobSatisfaction',\n",
       " 'MonthlyIncome',\n",
       " 'NumCompaniesWorked',\n",
       " 'PercentSalaryHike',\n",
       " 'PerformanceRating',\n",
       " 'RelationshipSatisfaction',\n",
       " 'StockOptionLevel',\n",
       " 'TotalWorkingYears',\n",
       " 'TrainingTimesLastYear',\n",
       " 'WorkLifeBalance',\n",
       " 'YearsAtCompany',\n",
       " 'YearsInCurrentRole',\n",
       " 'YearsSinceLastPromotion',\n",
       " 'YearsWithCurrManager',\n",
       " 'AgeStartedWorking ',\n",
       " 'BusinessTravel_Non-Travel',\n",
       " 'BusinessTravel_Travel_Frequently',\n",
       " 'BusinessTravel_Travel_Rarely',\n",
       " 'Department_Human Resources',\n",
       " 'Department_Research & Development',\n",
       " 'Department_Sales',\n",
       " 'EducationField_Human Resources',\n",
       " 'EducationField_Life Sciences',\n",
       " 'EducationField_Marketing',\n",
       " 'EducationField_Medical',\n",
       " 'EducationField_Other',\n",
       " 'EducationField_Technical Degree',\n",
       " 'Gender_Female',\n",
       " 'Gender_Male',\n",
       " 'JobRole_Healthcare Representative',\n",
       " 'JobRole_Human Resources',\n",
       " 'JobRole_Laboratory Technician',\n",
       " 'JobRole_Manager',\n",
       " 'JobRole_Manufacturing Director',\n",
       " 'JobRole_Research Director',\n",
       " 'JobRole_Research Scientist',\n",
       " 'JobRole_Sales Executive',\n",
       " 'JobRole_Sales Representative',\n",
       " 'MaritalStatus_Divorced',\n",
       " 'MaritalStatus_Married',\n",
       " 'MaritalStatus_Single',\n",
       " 'OverTime_No',\n",
       " 'OverTime_Yes',\n",
       " 'Employee Source_Adzuna',\n",
       " 'Employee Source_Company Website',\n",
       " 'Employee Source_GlassDoor',\n",
       " 'Employee Source_Indeed',\n",
       " 'Employee Source_Jora',\n",
       " 'Employee Source_LinkedIn',\n",
       " 'Employee Source_Recruit.net',\n",
       " 'Employee Source_Referral',\n",
       " 'Employee Source_Seek']"
      ]
     },
     "execution_count": 37,
     "metadata": {},
     "output_type": "execute_result"
    }
   ],
   "source": [
    "features_names"
   ]
  },
  {
   "cell_type": "code",
   "execution_count": 41,
   "id": "dc90fed9",
   "metadata": {},
   "outputs": [],
   "source": [
    "# Dataframe\n",
    "coeff_df = pd.DataFrame({'Attributes': features_names, 'Coefficient': coefficients}).sort_values(by = 'Coefficient', ascending = False)"
   ]
  },
  {
   "cell_type": "code",
   "execution_count": 42,
   "id": "2ebaed3b",
   "metadata": {},
   "outputs": [
    {
     "data": {
      "text/html": [
       "<div>\n",
       "<style scoped>\n",
       "    .dataframe tbody tr th:only-of-type {\n",
       "        vertical-align: middle;\n",
       "    }\n",
       "\n",
       "    .dataframe tbody tr th {\n",
       "        vertical-align: top;\n",
       "    }\n",
       "\n",
       "    .dataframe thead th {\n",
       "        text-align: right;\n",
       "    }\n",
       "</style>\n",
       "<table border=\"1\" class=\"dataframe\">\n",
       "  <thead>\n",
       "    <tr style=\"text-align: right;\">\n",
       "      <th></th>\n",
       "      <th>Attributes</th>\n",
       "      <th>Coefficient</th>\n",
       "    </tr>\n",
       "  </thead>\n",
       "  <tbody>\n",
       "    <tr>\n",
       "      <th>22</th>\n",
       "      <td>BusinessTravel_Travel_Frequently</td>\n",
       "      <td>0.659193</td>\n",
       "    </tr>\n",
       "    <tr>\n",
       "      <th>48</th>\n",
       "      <td>OverTime_Yes</td>\n",
       "      <td>0.429008</td>\n",
       "    </tr>\n",
       "    <tr>\n",
       "      <th>46</th>\n",
       "      <td>MaritalStatus_Single</td>\n",
       "      <td>0.375998</td>\n",
       "    </tr>\n",
       "    <tr>\n",
       "      <th>32</th>\n",
       "      <td>EducationField_Technical Degree</td>\n",
       "      <td>0.353505</td>\n",
       "    </tr>\n",
       "    <tr>\n",
       "      <th>56</th>\n",
       "      <td>Employee Source_Referral</td>\n",
       "      <td>0.283704</td>\n",
       "    </tr>\n",
       "    <tr>\n",
       "      <th>37</th>\n",
       "      <td>JobRole_Laboratory Technician</td>\n",
       "      <td>0.277759</td>\n",
       "    </tr>\n",
       "    <tr>\n",
       "      <th>43</th>\n",
       "      <td>JobRole_Sales Representative</td>\n",
       "      <td>0.200103</td>\n",
       "    </tr>\n",
       "    <tr>\n",
       "      <th>26</th>\n",
       "      <td>Department_Sales</td>\n",
       "      <td>0.162521</td>\n",
       "    </tr>\n",
       "    <tr>\n",
       "      <th>1</th>\n",
       "      <td>DistanceFromHome</td>\n",
       "      <td>0.160598</td>\n",
       "    </tr>\n",
       "    <tr>\n",
       "      <th>18</th>\n",
       "      <td>YearsSinceLastPromotion</td>\n",
       "      <td>0.156987</td>\n",
       "    </tr>\n",
       "  </tbody>\n",
       "</table>\n",
       "</div>"
      ],
      "text/plain": [
       "                          Attributes  Coefficient\n",
       "22  BusinessTravel_Travel_Frequently     0.659193\n",
       "48                      OverTime_Yes     0.429008\n",
       "46              MaritalStatus_Single     0.375998\n",
       "32   EducationField_Technical Degree     0.353505\n",
       "56          Employee Source_Referral     0.283704\n",
       "37     JobRole_Laboratory Technician     0.277759\n",
       "43      JobRole_Sales Representative     0.200103\n",
       "26                  Department_Sales     0.162521\n",
       "1                   DistanceFromHome     0.160598\n",
       "18           YearsSinceLastPromotion     0.156987"
      ]
     },
     "execution_count": 42,
     "metadata": {},
     "output_type": "execute_result"
    }
   ],
   "source": [
    "coeff_df.head(10)"
   ]
  },
  {
   "cell_type": "markdown",
   "id": "cccf962b",
   "metadata": {},
   "source": [
    "### Analyzing Results\n",
    "\n",
    "**BusinessTravel_Travel_Frequently (0.494839)**\n",
    "\n",
    "Employees who travel frequently for business are more likely to voluntarily resign. This coefficient is quite significant, suggesting that the frequency of travel may be a factor of stress or dissatisfaction.\n",
    "\n",
    "**EducationField_Technical Degree (0.275768)**\n",
    "\n",
    "Employees with a technical degree are more likely to voluntarily resign compared to those with other educational backgrounds. This may indicate that these employees have more opportunities in the job market or that their expectations are not being met.\n",
    "\n",
    "**Employee Source_Referral (0.257281)**\n",
    "\n",
    "Employees who were hired through referrals are more likely to voluntarily resign. This may suggest that despite being a referral, they may not be as aligned with the company as other employees.\n",
    "\n",
    "**MaritalStatus_Single (0.213240)**\n",
    "\n",
    "Single employees are more likely to voluntarily resign compared to married employees or employees in other marital statuses. This may be due to greater flexibility and fewer personal responsibilities.\n",
    "\n",
    "**JobRole_Laboratory Technician (0.213197)**\n",
    "\n",
    "Employees who work as laboratory technicians are more likely to voluntarily quit. This may indicate dissatisfaction with the specific role or work environment.\n",
    "\n",
    "**OverTime_Yes (0.183383)**\n",
    "\n",
    "Employees who work overtime are more likely to voluntarily quit. This suggests that overwork can lead to burnout and dissatisfaction.\n",
    "\n",
    "**DistanceFromHome (0.160642)**\n",
    "\n",
    "A longer distance from home to work is associated with a higher likelihood of voluntarily quitting. Long commutes can cause burnout and dissatisfaction.\n",
    "\n",
    "**YearsSinceLastPromotion (0.157113)**\n",
    "\n",
    "Employees who have spent more years since their last promotion are more likely to voluntarily quit. This may indicate dissatisfaction with growth opportunities within the company.\n",
    "\n",
    "**JobRole_Sales Representative (0.126106)**\n",
    "\n",
    "Employees who work as sales representatives are more likely to voluntarily resign. This role may have high performance pressure or lack of adequate support.\n",
    "\n",
    "**YearsAtCompany (0.105078)**\n",
    "\n",
    "The more years an employee has been with the company, the more likely they are to voluntarily resign. This may indicate that after a certain period of time, employees may feel stagnant or seek new opportunities."
   ]
  },
  {
   "cell_type": "markdown",
   "id": "864b3e88",
   "metadata": {},
   "source": [
    "### Conclusion"
   ]
  },
  {
   "cell_type": "markdown",
   "id": "62736f84",
   "metadata": {},
   "source": [
    "Positive coefficients indicate that these factors increase the likelihood of voluntary resignation. Understanding these factors can help a company take preventative measures, such as improving working conditions, providing opportunities for growth, and minimizing the need for overtime, to reduce the voluntary turnover rate."
   ]
  }
 ],
 "metadata": {
  "kernelspec": {
   "display_name": "Python 3 (ipykernel)",
   "language": "python",
   "name": "python3"
  },
  "language_info": {
   "codemirror_mode": {
    "name": "ipython",
    "version": 3
   },
   "file_extension": ".py",
   "mimetype": "text/x-python",
   "name": "python",
   "nbconvert_exporter": "python",
   "pygments_lexer": "ipython3",
   "version": "3.9.13"
  }
 },
 "nbformat": 4,
 "nbformat_minor": 5
}
